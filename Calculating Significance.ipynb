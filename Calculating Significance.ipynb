{
 "cells": [
  {
   "cell_type": "markdown",
   "id": "0d3f7f04",
   "metadata": {},
   "source": [
    "# Calculating the Significance of the Line\n",
    "First Estimate the total Noise  \n",
    "Second Calculate the total Flux of the integrated Line   \n",
    "Calculate significance which is given by \n",
    "$$ Significance = \\frac{Total Flux}{Total Noise} $$"
   ]
  },
  {
   "cell_type": "code",
   "execution_count": 1,
   "id": "850ef823",
   "metadata": {},
   "outputs": [],
   "source": [
    "#Importing needed Libraries\n",
    "import pandas as pd\n",
    "import numpy as np\n",
    "\n",
    "# Reading the Excel File, The Excel File has Three Sheets, Approach 1, Approach 2, and Flux obtained from CARTA\n",
    "df = pd.read_excel(\"RMS_DATA.xlsx\",sheet_name = None)"
   ]
  },
  {
   "cell_type": "markdown",
   "id": "c6fc4ac0",
   "metadata": {},
   "source": [
    "The First Approach all the Channels Selected  \n",
    "Channell width is 25 km/s (Entire Cube)"
   ]
  },
  {
   "cell_type": "code",
   "execution_count": 2,
   "id": "720592cc",
   "metadata": {},
   "outputs": [],
   "source": [
    "# Creating Data Frame from Approach 1 which contains RMS from a Region away from the line\n",
    "A_1 = df['Approach 1'] # A dataframe from the Approach 1 Sheet"
   ]
  },
  {
   "cell_type": "code",
   "execution_count": 3,
   "id": "75e3d51b",
   "metadata": {},
   "outputs": [
    {
     "name": "stdout",
     "output_type": "stream",
     "text": [
      "The estimated total noise is 834.039642 x 10^-4 \n"
     ]
    }
   ],
   "source": [
    "#Estimating the Noise from the RMS Values\n",
    "s = np.array(A_1['RMS (x 10^-4)'])\n",
    "\n",
    "#Sum the of the Squares of the rms values\n",
    "rms_total = np.sqrt(np.sum(s**2)) * 25 #rms multiplied by the Channel width\n",
    "print('The estimated total noise is %f x 10^-4 '%(rms_total))"
   ]
  },
  {
   "cell_type": "markdown",
   "id": "033c4532",
   "metadata": {},
   "source": [
    "The Second Approach the Noise is assumed to be Uniform Accross the Cube  "
   ]
  },
  {
   "cell_type": "code",
   "execution_count": 4,
   "id": "57d14b83",
   "metadata": {},
   "outputs": [],
   "source": [
    "# Creating Data Frame from Approach 2 which contains RMS from a Region around the line\n",
    "A_2 = df['Approach 2'] # A dataframe from the Approach 2 Sheet\n",
    "\n",
    "#Selecting offline channels\n",
    "p_1 = A_2.iloc[0:15]\n",
    "p_2 = A_2.iloc[48:]\n",
    "\n",
    "df_2 = pd.concat([p_1,p_2])\n",
    "df_2 = df_2.reset_index(drop = True) #Dataframe with only offline Channels\n"
   ]
  },
  {
   "cell_type": "code",
   "execution_count": 5,
   "id": "00bbd08f",
   "metadata": {},
   "outputs": [
    {
     "name": "stdout",
     "output_type": "stream",
     "text": [
      "The estimated total noise by 2nd Approach is 582.095246 x 10^-4Jykm/s\n"
     ]
    }
   ],
   "source": [
    "#l_2 = list(df_2['RMS (x 10^-4)'])\n",
    "#s = 0\n",
    "\n",
    "#Sum the of the Squares of the rms values\n",
    "N = 63-30 #No. of online Channels\n",
    "s = np.array(df_2['RMS (x 10^-4)'])\n",
    "rms_total_2 = np.sqrt(np.sum(s**2))*25 #rms multiplied by the Channel width\n",
    "\n",
    "print(\"The estimated total noise by 2nd Approach is %f x 10^-4Jykm/s\"%(rms_total_2))"
   ]
  },
  {
   "cell_type": "code",
   "execution_count": 6,
   "id": "aa976d92",
   "metadata": {},
   "outputs": [],
   "source": [
    "Flux = df['Flux']\n",
    "Flux_1 =  Flux.iloc[15:48] # Selecting the online channels"
   ]
  },
  {
   "cell_type": "code",
   "execution_count": 7,
   "id": "9fef37ca",
   "metadata": {},
   "outputs": [
    {
     "name": "stdout",
     "output_type": "stream",
     "text": [
      "The estimated total Flux is 15696.000000 x 10^-4Jykm/s\n"
     ]
    }
   ],
   "source": [
    "#Summing up the Flux    \n",
    "s = np.array(Flux_1['Flux (x 10^-4)'])\n",
    "Flux_total = np.sum(s)*25 # Multiplying with the Channel Width\n",
    "print(\"The estimated total Flux is %f x 10^-4Jykm/s\"%(Flux_total))"
   ]
  },
  {
   "cell_type": "code",
   "execution_count": 8,
   "id": "8b384d7f",
   "metadata": {},
   "outputs": [
    {
     "name": "stdout",
     "output_type": "stream",
     "text": [
      "The significance of the line is 18.819249 by 1st approach\n"
     ]
    }
   ],
   "source": [
    "Sg_1 = Flux_total/rms_total\n",
    "print('The significance of the line is %f by 1st approach'%(Sg_1))"
   ]
  },
  {
   "cell_type": "code",
   "execution_count": 9,
   "id": "367ebdac",
   "metadata": {},
   "outputs": [
    {
     "name": "stdout",
     "output_type": "stream",
     "text": [
      "The significance of the line is 26.964659 by 2nd Approach\n"
     ]
    }
   ],
   "source": [
    "Sg_2 = Flux_total/rms_total_2\n",
    "print('The significance of the line is %f by 2nd Approach'%(Sg_2))"
   ]
  }
 ],
 "metadata": {
  "kernelspec": {
   "display_name": "Python 3 (ipykernel)",
   "language": "python",
   "name": "python3"
  },
  "language_info": {
   "codemirror_mode": {
    "name": "ipython",
    "version": 3
   },
   "file_extension": ".py",
   "mimetype": "text/x-python",
   "name": "python",
   "nbconvert_exporter": "python",
   "pygments_lexer": "ipython3",
   "version": "3.10.8"
  }
 },
 "nbformat": 4,
 "nbformat_minor": 5
}
